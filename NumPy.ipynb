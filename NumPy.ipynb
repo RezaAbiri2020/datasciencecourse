{
 "cells": [
  {
   "cell_type": "code",
   "execution_count": 1,
   "metadata": {},
   "outputs": [],
   "source": [
    "mylist = [1,2,3]"
   ]
  },
  {
   "cell_type": "code",
   "execution_count": 2,
   "metadata": {},
   "outputs": [],
   "source": [
    "import numpy as np"
   ]
  },
  {
   "cell_type": "code",
   "execution_count": 3,
   "metadata": {},
   "outputs": [
    {
     "data": {
      "text/plain": [
       "array([1, 2, 3])"
      ]
     },
     "execution_count": 3,
     "metadata": {},
     "output_type": "execute_result"
    }
   ],
   "source": [
    "np.array(mylist)"
   ]
  },
  {
   "cell_type": "code",
   "execution_count": 4,
   "metadata": {},
   "outputs": [
    {
     "data": {
      "text/plain": [
       "array([[0., 0., 0., 0., 0., 0., 0., 0., 0., 0.],\n",
       "       [0., 0., 0., 0., 0., 0., 0., 0., 0., 0.],\n",
       "       [0., 0., 0., 0., 0., 0., 0., 0., 0., 0.],\n",
       "       [0., 0., 0., 0., 0., 0., 0., 0., 0., 0.],\n",
       "       [0., 0., 0., 0., 0., 0., 0., 0., 0., 0.],\n",
       "       [0., 0., 0., 0., 0., 0., 0., 0., 0., 0.],\n",
       "       [0., 0., 0., 0., 0., 0., 0., 0., 0., 0.],\n",
       "       [0., 0., 0., 0., 0., 0., 0., 0., 0., 0.],\n",
       "       [0., 0., 0., 0., 0., 0., 0., 0., 0., 0.],\n",
       "       [0., 0., 0., 0., 0., 0., 0., 0., 0., 0.]])"
      ]
     },
     "execution_count": 4,
     "metadata": {},
     "output_type": "execute_result"
    }
   ],
   "source": [
    "np.zeros((10,10))"
   ]
  },
  {
   "cell_type": "code",
   "execution_count": 9,
   "metadata": {},
   "outputs": [
    {
     "data": {
      "text/plain": [
       "array([[0.37611508, 0.23213924, 0.40990595, 0.50665921, 0.90249789],\n",
       "       [0.14523334, 0.76093906, 0.19013281, 0.95890024, 0.18597563],\n",
       "       [0.74361985, 0.49046805, 0.48302528, 0.75154191, 0.13740678],\n",
       "       [0.3484271 , 0.09789646, 0.62081828, 0.5334059 , 0.81073194],\n",
       "       [0.77746576, 0.93589106, 0.07407217, 0.33636107, 0.98752287]])"
      ]
     },
     "execution_count": 9,
     "metadata": {},
     "output_type": "execute_result"
    }
   ],
   "source": [
    "np.random.rand(5,5)"
   ]
  },
  {
   "cell_type": "code",
   "execution_count": 10,
   "metadata": {},
   "outputs": [
    {
     "data": {
      "text/plain": [
       "array([[-0.63993542, -0.6580599 , -0.88556823,  1.75682735, -0.6472523 ],\n",
       "       [-0.43942086, -0.23521309, -0.79340156, -1.38326614, -1.00210619],\n",
       "       [ 0.30071893,  0.81165372,  1.4913445 , -0.36262997, -0.46086606],\n",
       "       [ 0.65347039, -0.08893244, -2.00609893, -1.78612279,  0.74032497],\n",
       "       [-1.23182859,  1.71549249, -0.91244049,  0.52420087, -0.34218106]])"
      ]
     },
     "execution_count": 10,
     "metadata": {},
     "output_type": "execute_result"
    }
   ],
   "source": [
    "np.random.randn(5,5)"
   ]
  },
  {
   "cell_type": "code",
   "execution_count": 11,
   "metadata": {},
   "outputs": [],
   "source": [
    "ab = np.random.rand(5,5)"
   ]
  },
  {
   "cell_type": "code",
   "execution_count": 12,
   "metadata": {},
   "outputs": [
    {
     "data": {
      "text/plain": [
       "array([[0.94185108, 0.14030998, 0.38495295, 0.49739339, 0.36584376],\n",
       "       [0.81754782, 0.36881604, 0.02075626, 0.10570783, 0.93897955],\n",
       "       [0.61580008, 0.18241347, 0.73636756, 0.16025503, 0.79790764],\n",
       "       [0.09984818, 0.46095531, 0.43927211, 0.75885437, 0.38952888],\n",
       "       [0.37905521, 0.53398121, 0.89054882, 0.03913062, 0.31669296]])"
      ]
     },
     "execution_count": 12,
     "metadata": {},
     "output_type": "execute_result"
    }
   ],
   "source": [
    "ab"
   ]
  },
  {
   "cell_type": "code",
   "execution_count": 13,
   "metadata": {},
   "outputs": [
    {
     "data": {
      "text/plain": [
       "array([0.94185108, 0.14030998, 0.38495295, 0.49739339, 0.36584376])"
      ]
     },
     "execution_count": 13,
     "metadata": {},
     "output_type": "execute_result"
    }
   ],
   "source": [
    "ab[0]"
   ]
  },
  {
   "cell_type": "code",
   "execution_count": 14,
   "metadata": {},
   "outputs": [
    {
     "data": {
      "text/plain": [
       "array([0.94185108, 0.14030998, 0.38495295, 0.49739339, 0.36584376])"
      ]
     },
     "execution_count": 14,
     "metadata": {},
     "output_type": "execute_result"
    }
   ],
   "source": [
    "ab[:][0]"
   ]
  },
  {
   "cell_type": "code",
   "execution_count": 15,
   "metadata": {},
   "outputs": [
    {
     "data": {
      "text/plain": [
       "array([0.94185108, 0.14030998, 0.38495295, 0.49739339, 0.36584376])"
      ]
     },
     "execution_count": 15,
     "metadata": {},
     "output_type": "execute_result"
    }
   ],
   "source": [
    "ab[0,:]"
   ]
  },
  {
   "cell_type": "code",
   "execution_count": 16,
   "metadata": {},
   "outputs": [
    {
     "data": {
      "text/plain": [
       "array([0.94185108, 0.81754782, 0.61580008, 0.09984818, 0.37905521])"
      ]
     },
     "execution_count": 16,
     "metadata": {},
     "output_type": "execute_result"
    }
   ],
   "source": [
    "ab[:,0]"
   ]
  },
  {
   "cell_type": "code",
   "execution_count": 17,
   "metadata": {},
   "outputs": [],
   "source": [
    "FAWeights = {'Target1':ab,'target2':ab,'target3':ab}"
   ]
  },
  {
   "cell_type": "code",
   "execution_count": 19,
   "metadata": {},
   "outputs": [
    {
     "data": {
      "text/plain": [
       "(5, 5)"
      ]
     },
     "execution_count": 19,
     "metadata": {},
     "output_type": "execute_result"
    }
   ],
   "source": [
    "FAWeights['Target1'].shape"
   ]
  },
  {
   "cell_type": "code",
   "execution_count": 22,
   "metadata": {},
   "outputs": [],
   "source": [
    "FAWeights = {'Target1':{'feature1':ab,'feature2':ab},'target2':ab,'target3':ab}"
   ]
  },
  {
   "cell_type": "code",
   "execution_count": 23,
   "metadata": {},
   "outputs": [
    {
     "data": {
      "text/plain": [
       "(5, 5)"
      ]
     },
     "execution_count": 23,
     "metadata": {},
     "output_type": "execute_result"
    }
   ],
   "source": [
    "FAWeights['Target1']['feature1'].shape"
   ]
  },
  {
   "cell_type": "code",
   "execution_count": 25,
   "metadata": {},
   "outputs": [
    {
     "data": {
      "text/plain": [
       "dict_keys(['Target1', 'target2', 'target3'])"
      ]
     },
     "execution_count": 25,
     "metadata": {},
     "output_type": "execute_result"
    }
   ],
   "source": [
    "FAWeights.keys()"
   ]
  },
  {
   "cell_type": "code",
   "execution_count": 27,
   "metadata": {},
   "outputs": [
    {
     "data": {
      "text/plain": [
       "dict_values([{'feature1': array([[0.94185108, 0.14030998, 0.38495295, 0.49739339, 0.36584376],\n",
       "       [0.81754782, 0.36881604, 0.02075626, 0.10570783, 0.93897955],\n",
       "       [0.61580008, 0.18241347, 0.73636756, 0.16025503, 0.79790764],\n",
       "       [0.09984818, 0.46095531, 0.43927211, 0.75885437, 0.38952888],\n",
       "       [0.37905521, 0.53398121, 0.89054882, 0.03913062, 0.31669296]]), 'feature2': array([[0.94185108, 0.14030998, 0.38495295, 0.49739339, 0.36584376],\n",
       "       [0.81754782, 0.36881604, 0.02075626, 0.10570783, 0.93897955],\n",
       "       [0.61580008, 0.18241347, 0.73636756, 0.16025503, 0.79790764],\n",
       "       [0.09984818, 0.46095531, 0.43927211, 0.75885437, 0.38952888],\n",
       "       [0.37905521, 0.53398121, 0.89054882, 0.03913062, 0.31669296]])}, array([[0.94185108, 0.14030998, 0.38495295, 0.49739339, 0.36584376],\n",
       "       [0.81754782, 0.36881604, 0.02075626, 0.10570783, 0.93897955],\n",
       "       [0.61580008, 0.18241347, 0.73636756, 0.16025503, 0.79790764],\n",
       "       [0.09984818, 0.46095531, 0.43927211, 0.75885437, 0.38952888],\n",
       "       [0.37905521, 0.53398121, 0.89054882, 0.03913062, 0.31669296]]), array([[0.94185108, 0.14030998, 0.38495295, 0.49739339, 0.36584376],\n",
       "       [0.81754782, 0.36881604, 0.02075626, 0.10570783, 0.93897955],\n",
       "       [0.61580008, 0.18241347, 0.73636756, 0.16025503, 0.79790764],\n",
       "       [0.09984818, 0.46095531, 0.43927211, 0.75885437, 0.38952888],\n",
       "       [0.37905521, 0.53398121, 0.89054882, 0.03913062, 0.31669296]])])"
      ]
     },
     "execution_count": 27,
     "metadata": {},
     "output_type": "execute_result"
    }
   ],
   "source": [
    "FAWeights.values()"
   ]
  },
  {
   "cell_type": "code",
   "execution_count": 38,
   "metadata": {},
   "outputs": [
    {
     "data": {
      "text/plain": [
       "dict_items([('Target1', {'feature1': array([[0.94185108, 0.14030998, 0.38495295, 0.49739339, 0.36584376],\n",
       "       [0.81754782, 0.36881604, 0.02075626, 0.10570783, 0.93897955],\n",
       "       [0.61580008, 0.18241347, 0.73636756, 0.16025503, 0.79790764],\n",
       "       [0.09984818, 0.46095531, 0.43927211, 0.75885437, 0.38952888],\n",
       "       [0.37905521, 0.53398121, 0.89054882, 0.03913062, 0.31669296]]), 'feature2': array([[0.94185108, 0.14030998, 0.38495295, 0.49739339, 0.36584376],\n",
       "       [0.81754782, 0.36881604, 0.02075626, 0.10570783, 0.93897955],\n",
       "       [0.61580008, 0.18241347, 0.73636756, 0.16025503, 0.79790764],\n",
       "       [0.09984818, 0.46095531, 0.43927211, 0.75885437, 0.38952888],\n",
       "       [0.37905521, 0.53398121, 0.89054882, 0.03913062, 0.31669296]])}), ('target2', array([[0.94185108, 0.14030998, 0.38495295, 0.49739339, 0.36584376],\n",
       "       [0.81754782, 0.36881604, 0.02075626, 0.10570783, 0.93897955],\n",
       "       [0.61580008, 0.18241347, 0.73636756, 0.16025503, 0.79790764],\n",
       "       [0.09984818, 0.46095531, 0.43927211, 0.75885437, 0.38952888],\n",
       "       [0.37905521, 0.53398121, 0.89054882, 0.03913062, 0.31669296]])), ('target3', array([[0.94185108, 0.14030998, 0.38495295, 0.49739339, 0.36584376],\n",
       "       [0.81754782, 0.36881604, 0.02075626, 0.10570783, 0.93897955],\n",
       "       [0.61580008, 0.18241347, 0.73636756, 0.16025503, 0.79790764],\n",
       "       [0.09984818, 0.46095531, 0.43927211, 0.75885437, 0.38952888],\n",
       "       [0.37905521, 0.53398121, 0.89054882, 0.03913062, 0.31669296]]))])"
      ]
     },
     "execution_count": 38,
     "metadata": {},
     "output_type": "execute_result"
    }
   ],
   "source": [
    "FAWeights_save = {}\n",
    "FAWeights_save['feature'] = ab\n",
    "FAWeights.items()"
   ]
  },
  {
   "cell_type": "code",
   "execution_count": 58,
   "metadata": {},
   "outputs": [
    {
     "ename": "KeyError",
     "evalue": "'feature'",
     "output_type": "error",
     "traceback": [
      "\u001b[1;31m---------------------------------------------------------------------------\u001b[0m",
      "\u001b[1;31mKeyError\u001b[0m                                  Traceback (most recent call last)",
      "\u001b[1;32m<ipython-input-58-cab88844f691>\u001b[0m in \u001b[0;36m<module>\u001b[1;34m\u001b[0m\n\u001b[0;32m      3\u001b[0m \u001b[1;33m\u001b[0m\u001b[0m\n\u001b[0;32m      4\u001b[0m \u001b[0mFAWeights_save\u001b[0m \u001b[1;33m=\u001b[0m \u001b[1;33m[\u001b[0m\u001b[1;33m{\u001b[0m\u001b[1;33m}\u001b[0m\u001b[1;33m]\u001b[0m\u001b[1;33m\u001b[0m\u001b[1;33m\u001b[0m\u001b[0m\n\u001b[1;32m----> 5\u001b[1;33m \u001b[0mFAWeights_save\u001b[0m\u001b[1;33m[\u001b[0m\u001b[1;36m0\u001b[0m\u001b[1;33m]\u001b[0m\u001b[1;33m[\u001b[0m\u001b[1;34m'feature'\u001b[0m\u001b[1;33m]\u001b[0m\u001b[1;33m[\u001b[0m\u001b[1;36m0\u001b[0m\u001b[1;33m]\u001b[0m \u001b[1;33m=\u001b[0m \u001b[0mab\u001b[0m\u001b[1;33m\u001b[0m\u001b[1;33m\u001b[0m\u001b[0m\n\u001b[0m\u001b[0;32m      6\u001b[0m \u001b[1;33m\u001b[0m\u001b[0m\n",
      "\u001b[1;31mKeyError\u001b[0m: 'feature'"
     ]
    }
   ],
   "source": [
    "#FAWeights_save = {}\n",
    "#FAWeights_save[0,0][0] = ab\n",
    "\n",
    "FAWeights_save = [{}]\n",
    "FAWeights_save[0]['feature'][0] = ab\n",
    "\n"
   ]
  },
  {
   "cell_type": "code",
   "execution_count": 39,
   "metadata": {},
   "outputs": [
    {
     "name": "stdout",
     "output_type": "stream",
     "text": [
      "{0: 'Hi', 1: 'I', 2: 'am', 3: 'John'}\n"
     ]
    }
   ],
   "source": [
    "dicts = {}\n",
    "keys = range(4)\n",
    "values = [\"Hi\", \"I\", \"am\", \"John\"]\n",
    "for i in keys:\n",
    "        dicts[i] = values[i]\n",
    "print(dicts)"
   ]
  },
  {
   "cell_type": "code",
   "execution_count": 52,
   "metadata": {},
   "outputs": [
    {
     "ename": "SyntaxError",
     "evalue": "invalid syntax (<ipython-input-52-f31b30c8a485>, line 1)",
     "output_type": "error",
     "traceback": [
      "\u001b[1;36m  File \u001b[1;32m\"<ipython-input-52-f31b30c8a485>\"\u001b[1;36m, line \u001b[1;32m1\u001b[0m\n\u001b[1;33m    item{i}.attribute1(2,j)\u001b[0m\n\u001b[1;37m        ^\u001b[0m\n\u001b[1;31mSyntaxError\u001b[0m\u001b[1;31m:\u001b[0m invalid syntax\n"
     ]
    }
   ],
   "source": [
    "item{i}.attribute1(2,j)\n",
    "item[i]['attribute1'][2,j]"
   ]
  },
  {
   "cell_type": "code",
   "execution_count": 77,
   "metadata": {},
   "outputs": [],
   "source": [
    "class structtype():\n",
    "    pass\n",
    "\n",
    "FAWeights_final = [ structtype() for i in range(4)]\n",
    "FAWeights_final[0].feature = [ structtype() for i in range(6)]\n",
    "FAWeights_final[1].feature = [ structtype() for i in range(6)]\n",
    "FAWeights_final[2].feature = [ structtype() for i in range(6)]\n",
    "FAWeights_final[3].feature = [ structtype() for i in range(6)]"
   ]
  },
  {
   "cell_type": "code",
   "execution_count": 78,
   "metadata": {},
   "outputs": [
    {
     "data": {
      "text/plain": [
       "list"
      ]
     },
     "execution_count": 78,
     "metadata": {},
     "output_type": "execute_result"
    }
   ],
   "source": [
    "type(FAWeights_final)"
   ]
  },
  {
   "cell_type": "code",
   "execution_count": 79,
   "metadata": {},
   "outputs": [
    {
     "data": {
      "text/plain": [
       "[<__main__.structtype at 0x1bbbccab850>,\n",
       " <__main__.structtype at 0x1bbbccab820>,\n",
       " <__main__.structtype at 0x1bbbccabbb0>,\n",
       " <__main__.structtype at 0x1bbbccab3d0>,\n",
       " <__main__.structtype at 0x1bbbccab790>,\n",
       " <__main__.structtype at 0x1bbbccab280>]"
      ]
     },
     "execution_count": 79,
     "metadata": {},
     "output_type": "execute_result"
    }
   ],
   "source": [
    "FAWeights_final[0].feature"
   ]
  },
  {
   "cell_type": "code",
   "execution_count": 80,
   "metadata": {},
   "outputs": [],
   "source": [
    "FAWeights_final[0].feature[0] = ab\n",
    "FAWeights_final[0].feature[1] = ab\n",
    "FAWeights_final[0].feature[2] = ab\n",
    "FAWeights_final[0].feature[3] = ab\n",
    "FAWeights_final[0].feature[4] = ab\n",
    "FAWeights_final[0].feature[5] = ab\n"
   ]
  },
  {
   "cell_type": "code",
   "execution_count": 81,
   "metadata": {},
   "outputs": [
    {
     "data": {
      "text/plain": [
       "array([[0.94185108, 0.14030998, 0.38495295, 0.49739339, 0.36584376],\n",
       "       [0.81754782, 0.36881604, 0.02075626, 0.10570783, 0.93897955],\n",
       "       [0.61580008, 0.18241347, 0.73636756, 0.16025503, 0.79790764],\n",
       "       [0.09984818, 0.46095531, 0.43927211, 0.75885437, 0.38952888],\n",
       "       [0.37905521, 0.53398121, 0.89054882, 0.03913062, 0.31669296]])"
      ]
     },
     "execution_count": 81,
     "metadata": {},
     "output_type": "execute_result"
    }
   ],
   "source": [
    "FAWeights_final[0].feature[3]"
   ]
  },
  {
   "cell_type": "code",
   "execution_count": 82,
   "metadata": {},
   "outputs": [
    {
     "data": {
      "text/plain": [
       "numpy.ndarray"
      ]
     },
     "execution_count": 82,
     "metadata": {},
     "output_type": "execute_result"
    }
   ],
   "source": [
    "type(FAWeights_final[0].feature[3])"
   ]
  },
  {
   "cell_type": "code",
   "execution_count": 83,
   "metadata": {},
   "outputs": [
    {
     "data": {
      "text/plain": [
       "(5, 5)"
      ]
     },
     "execution_count": 83,
     "metadata": {},
     "output_type": "execute_result"
    }
   ],
   "source": [
    "qw = FAWeights_final[0].feature[3]\n",
    "qw.shape"
   ]
  },
  {
   "cell_type": "code",
   "execution_count": null,
   "metadata": {},
   "outputs": [],
   "source": []
  }
 ],
 "metadata": {
  "kernelspec": {
   "display_name": "Python 3",
   "language": "python",
   "name": "python3"
  },
  "language_info": {
   "codemirror_mode": {
    "name": "ipython",
    "version": 3
   },
   "file_extension": ".py",
   "mimetype": "text/x-python",
   "name": "python",
   "nbconvert_exporter": "python",
   "pygments_lexer": "ipython3",
   "version": "3.8.3"
  }
 },
 "nbformat": 4,
 "nbformat_minor": 4
}
